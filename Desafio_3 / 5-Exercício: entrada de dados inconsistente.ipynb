{
 "cells": [
  {
   "cell_type": "markdown",
   "id": "2634429a",
   "metadata": {
    "papermill": {
     "duration": 0.006232,
     "end_time": "2023-03-27T18:33:44.626743",
     "exception": false,
     "start_time": "2023-03-27T18:33:44.620511",
     "status": "completed"
    },
    "tags": []
   },
   "source": [
    "**This notebook is an exercise in the [Data Cleaning](https://www.kaggle.com/learn/data-cleaning) course.  You can reference the tutorial at [this link](https://www.kaggle.com/alexisbcook/inconsistent-data-entry).**\n",
    "\n",
    "---\n"
   ]
  },
  {
   "cell_type": "markdown",
   "id": "164d4169",
   "metadata": {
    "papermill": {
     "duration": 0.004937,
     "end_time": "2023-03-27T18:33:44.636994",
     "exception": false,
     "start_time": "2023-03-27T18:33:44.632057",
     "status": "completed"
    },
    "tags": []
   },
   "source": [
    "In this exercise, you'll apply what you learned in the **Inconsistent data entry** tutorial.\n",
    "\n",
    "# Setup\n",
    "\n",
    "The questions below will give you feedback on your work. Run the following cell to set up the feedback system."
   ]
  },
  {
   "cell_type": "code",
   "execution_count": 1,
   "id": "6a45abd1",
   "metadata": {
    "execution": {
     "iopub.execute_input": "2023-03-27T18:33:44.649637Z",
     "iopub.status.busy": "2023-03-27T18:33:44.649001Z",
     "iopub.status.idle": "2023-03-27T18:33:44.840469Z",
     "shell.execute_reply": "2023-03-27T18:33:44.839482Z"
    },
    "papermill": {
     "duration": 0.201209,
     "end_time": "2023-03-27T18:33:44.843197",
     "exception": false,
     "start_time": "2023-03-27T18:33:44.641988",
     "status": "completed"
    },
    "tags": []
   },
   "outputs": [
    {
     "name": "stdout",
     "output_type": "stream",
     "text": [
      "Setup Complete\n"
     ]
    }
   ],
   "source": [
    "from learntools.core import binder\n",
    "binder.bind(globals())\n",
    "from learntools.data_cleaning.ex5 import *\n",
    "print(\"Setup Complete\")"
   ]
  },
  {
   "cell_type": "markdown",
   "id": "2d475e4e",
   "metadata": {
    "papermill": {
     "duration": 0.004938,
     "end_time": "2023-03-27T18:33:44.853543",
     "exception": false,
     "start_time": "2023-03-27T18:33:44.848605",
     "status": "completed"
    },
    "tags": []
   },
   "source": [
    "# Get our environment set up\n",
    "\n",
    "The first thing we'll need to do is load in the libraries and dataset we'll be using.  We use the same dataset from the tutorial."
   ]
  },
  {
   "cell_type": "code",
   "execution_count": 2,
   "id": "b6115b4e",
   "metadata": {
    "execution": {
     "iopub.execute_input": "2023-03-27T18:33:44.866601Z",
     "iopub.status.busy": "2023-03-27T18:33:44.865061Z",
     "iopub.status.idle": "2023-03-27T18:33:44.885344Z",
     "shell.execute_reply": "2023-03-27T18:33:44.883871Z"
    },
    "papermill": {
     "duration": 0.03042,
     "end_time": "2023-03-27T18:33:44.888886",
     "exception": false,
     "start_time": "2023-03-27T18:33:44.858466",
     "status": "completed"
    },
    "tags": []
   },
   "outputs": [],
   "source": [
    "# modules we'll use\n",
    "import pandas as pd\n",
    "import numpy as np\n",
    "\n",
    "# helpful modules\n",
    "import fuzzywuzzy\n",
    "from fuzzywuzzy import process\n",
    "import charset_normalizer\n",
    "\n",
    "# read in all our data\n",
    "professors = pd.read_csv(\"../input/pakistan-intellectual-capital/pakistan_intellectual_capital.csv\")\n",
    "\n",
    "# set seed for reproducibility\n",
    "np.random.seed(0)"
   ]
  },
  {
   "cell_type": "markdown",
   "id": "67318b32",
   "metadata": {
    "papermill": {
     "duration": 0.005063,
     "end_time": "2023-03-27T18:33:44.899427",
     "exception": false,
     "start_time": "2023-03-27T18:33:44.894364",
     "status": "completed"
    },
    "tags": []
   },
   "source": [
    "Next, we'll redo all of the work that we did in the tutorial."
   ]
  },
  {
   "cell_type": "code",
   "execution_count": 3,
   "id": "fb2b5ce2",
   "metadata": {
    "execution": {
     "iopub.execute_input": "2023-03-27T18:33:44.912286Z",
     "iopub.status.busy": "2023-03-27T18:33:44.911454Z",
     "iopub.status.idle": "2023-03-27T18:33:44.929711Z",
     "shell.execute_reply": "2023-03-27T18:33:44.928221Z"
    },
    "papermill": {
     "duration": 0.027737,
     "end_time": "2023-03-27T18:33:44.932322",
     "exception": false,
     "start_time": "2023-03-27T18:33:44.904585",
     "status": "completed"
    },
    "tags": []
   },
   "outputs": [
    {
     "name": "stdout",
     "output_type": "stream",
     "text": [
      "All done!\n"
     ]
    }
   ],
   "source": [
    "# convert to lower case\n",
    "professors['Country'] = professors['Country'].str.lower()\n",
    "# remove trailing white spaces\n",
    "professors['Country'] = professors['Country'].str.strip()\n",
    "\n",
    "# get the top 10 closest matches to \"south korea\"\n",
    "countries = professors['Country'].unique()\n",
    "matches = fuzzywuzzy.process.extract(\"south korea\", countries, limit=10, scorer=fuzzywuzzy.fuzz.token_sort_ratio)\n",
    "\n",
    "def replace_matches_in_column(df, column, string_to_match, min_ratio = 47):\n",
    "    # get a list of unique strings\n",
    "    strings = df[column].unique()\n",
    "    \n",
    "    # get the top 10 closest matches to our input string\n",
    "    matches = fuzzywuzzy.process.extract(string_to_match, strings, \n",
    "                                         limit=10, scorer=fuzzywuzzy.fuzz.token_sort_ratio)\n",
    "\n",
    "    # only get matches with a ratio > 90\n",
    "    close_matches = [matches[0] for matches in matches if matches[1] >= min_ratio]\n",
    "\n",
    "    # get the rows of all the close matches in our dataframe\n",
    "    rows_with_matches = df[column].isin(close_matches)\n",
    "\n",
    "    # replace all rows with close matches with the input matches \n",
    "    df.loc[rows_with_matches, column] = string_to_match\n",
    "    \n",
    "    # let us know the function's done\n",
    "    print(\"All done!\")\n",
    "    \n",
    "replace_matches_in_column(df=professors, column='Country', string_to_match=\"south korea\")\n",
    "countries = professors['Country'].unique()"
   ]
  },
  {
   "cell_type": "markdown",
   "id": "b058a63f",
   "metadata": {
    "papermill": {
     "duration": 0.005087,
     "end_time": "2023-03-27T18:33:44.942735",
     "exception": false,
     "start_time": "2023-03-27T18:33:44.937648",
     "status": "completed"
    },
    "tags": []
   },
   "source": [
    "# 1) Examine another column\n",
    "\n",
    "Write code below to take a look at all the unique values in the \"Graduated from\" column."
   ]
  },
  {
   "cell_type": "code",
   "execution_count": 4,
   "id": "dca2fa79",
   "metadata": {
    "execution": {
     "iopub.execute_input": "2023-03-27T18:33:44.955557Z",
     "iopub.status.busy": "2023-03-27T18:33:44.954713Z",
     "iopub.status.idle": "2023-03-27T18:33:44.959823Z",
     "shell.execute_reply": "2023-03-27T18:33:44.958940Z"
    },
    "papermill": {
     "duration": 0.014121,
     "end_time": "2023-03-27T18:33:44.962047",
     "exception": false,
     "start_time": "2023-03-27T18:33:44.947926",
     "status": "completed"
    },
    "tags": []
   },
   "outputs": [],
   "source": [
    "# TODO: Your code here\n",
    "countries = professors['Graduated from'].unique()"
   ]
  },
  {
   "cell_type": "markdown",
   "id": "549b37c4",
   "metadata": {
    "papermill": {
     "duration": 0.005029,
     "end_time": "2023-03-27T18:33:44.972697",
     "exception": false,
     "start_time": "2023-03-27T18:33:44.967668",
     "status": "completed"
    },
    "tags": []
   },
   "source": [
    "Do you notice any inconsistencies in the data?  Can any of the inconsistencies in the data be fixed by removing white spaces at the beginning and end of cells?\n",
    "\n",
    "Once you have answered these questions, run the code cell below to get credit for your work."
   ]
  },
  {
   "cell_type": "code",
   "execution_count": 5,
   "id": "5169d14e",
   "metadata": {
    "execution": {
     "iopub.execute_input": "2023-03-27T18:33:44.985806Z",
     "iopub.status.busy": "2023-03-27T18:33:44.984532Z",
     "iopub.status.idle": "2023-03-27T18:33:44.995369Z",
     "shell.execute_reply": "2023-03-27T18:33:44.994034Z"
    },
    "papermill": {
     "duration": 0.019805,
     "end_time": "2023-03-27T18:33:44.997679",
     "exception": false,
     "start_time": "2023-03-27T18:33:44.977874",
     "status": "completed"
    },
    "tags": []
   },
   "outputs": [
    {
     "data": {
      "application/javascript": [
       "parent.postMessage({\"jupyterEvent\": \"custom.exercise_interaction\", \"data\": {\"outcomeType\": 1, \"valueTowardsCompletion\": 0.3333333333333333, \"interactionType\": 1, \"questionType\": 4, \"questionId\": \"1_ExamineProvince\", \"learnToolsVersion\": \"0.3.4\", \"failureMessage\": \"\", \"exceptionClass\": \"\", \"trace\": \"\"}}, \"*\")"
      ],
      "text/plain": [
       "<IPython.core.display.Javascript object>"
      ]
     },
     "metadata": {},
     "output_type": "display_data"
    },
    {
     "data": {
      "text/markdown": [
       "<span style=\"color:#33cc33\">Correct:</span> \n",
       "\n",
       "There are inconsistencies that can be fixed by removing white spaces at the beginning and end of cells.  For instance, \"University of Central Florida\" and \" University of Central Florida\" both appear in the column."
      ],
      "text/plain": [
       "Correct: \n",
       "\n",
       "There are inconsistencies that can be fixed by removing white spaces at the beginning and end of cells.  For instance, \"University of Central Florida\" and \" University of Central Florida\" both appear in the column."
      ]
     },
     "metadata": {},
     "output_type": "display_data"
    }
   ],
   "source": [
    "# Check your answer (Run this code cell to receive credit!)\n",
    "q1.check()"
   ]
  },
  {
   "cell_type": "code",
   "execution_count": 6,
   "id": "a558626f",
   "metadata": {
    "execution": {
     "iopub.execute_input": "2023-03-27T18:33:45.010872Z",
     "iopub.status.busy": "2023-03-27T18:33:45.010422Z",
     "iopub.status.idle": "2023-03-27T18:33:45.015699Z",
     "shell.execute_reply": "2023-03-27T18:33:45.014311Z"
    },
    "papermill": {
     "duration": 0.015111,
     "end_time": "2023-03-27T18:33:45.018358",
     "exception": false,
     "start_time": "2023-03-27T18:33:45.003247",
     "status": "completed"
    },
    "tags": []
   },
   "outputs": [],
   "source": [
    "# Line below will give you a hint\n",
    "#q1.hint()"
   ]
  },
  {
   "cell_type": "markdown",
   "id": "75b3efff",
   "metadata": {
    "papermill": {
     "duration": 0.005385,
     "end_time": "2023-03-27T18:33:45.029488",
     "exception": false,
     "start_time": "2023-03-27T18:33:45.024103",
     "status": "completed"
    },
    "tags": []
   },
   "source": [
    "# 2) Do some text pre-processing\n",
    "\n",
    "Convert every entry in the \"Graduated from\" column in the `professors` DataFrame to remove white spaces at the beginning and end of cells."
   ]
  },
  {
   "cell_type": "code",
   "execution_count": 7,
   "id": "c8228aa5",
   "metadata": {
    "execution": {
     "iopub.execute_input": "2023-03-27T18:33:45.045002Z",
     "iopub.status.busy": "2023-03-27T18:33:45.044063Z",
     "iopub.status.idle": "2023-03-27T18:33:45.058087Z",
     "shell.execute_reply": "2023-03-27T18:33:45.057039Z"
    },
    "papermill": {
     "duration": 0.025183,
     "end_time": "2023-03-27T18:33:45.060483",
     "exception": false,
     "start_time": "2023-03-27T18:33:45.035300",
     "status": "completed"
    },
    "tags": []
   },
   "outputs": [
    {
     "data": {
      "application/javascript": [
       "parent.postMessage({\"jupyterEvent\": \"custom.exercise_interaction\", \"data\": {\"outcomeType\": 1, \"valueTowardsCompletion\": 0.3333333333333333, \"interactionType\": 1, \"questionType\": 1, \"questionId\": \"2_TextProcessing\", \"learnToolsVersion\": \"0.3.4\", \"failureMessage\": \"\", \"exceptionClass\": \"\", \"trace\": \"\"}}, \"*\")"
      ],
      "text/plain": [
       "<IPython.core.display.Javascript object>"
      ]
     },
     "metadata": {},
     "output_type": "display_data"
    },
    {
     "data": {
      "text/markdown": [
       "<span style=\"color:#33cc33\">Correct</span>"
      ],
      "text/plain": [
       "Correct"
      ]
     },
     "metadata": {},
     "output_type": "display_data"
    }
   ],
   "source": [
    "# TODO: Your code here\n",
    "professors['Graduated from'] = professors['Graduated from'].str.strip()\n",
    "\n",
    "# Check your answer\n",
    "q2.check()"
   ]
  },
  {
   "cell_type": "code",
   "execution_count": 8,
   "id": "6945323d",
   "metadata": {
    "execution": {
     "iopub.execute_input": "2023-03-27T18:33:45.074435Z",
     "iopub.status.busy": "2023-03-27T18:33:45.073941Z",
     "iopub.status.idle": "2023-03-27T18:33:45.079176Z",
     "shell.execute_reply": "2023-03-27T18:33:45.077856Z"
    },
    "papermill": {
     "duration": 0.015341,
     "end_time": "2023-03-27T18:33:45.081708",
     "exception": false,
     "start_time": "2023-03-27T18:33:45.066367",
     "status": "completed"
    },
    "tags": []
   },
   "outputs": [],
   "source": [
    "# Lines below will give you a hint or solution code\n",
    "#q2.hint()\n",
    "#q2.solution()"
   ]
  },
  {
   "cell_type": "markdown",
   "id": "14d3de65",
   "metadata": {
    "papermill": {
     "duration": 0.005515,
     "end_time": "2023-03-27T18:33:45.093037",
     "exception": false,
     "start_time": "2023-03-27T18:33:45.087522",
     "status": "completed"
    },
    "tags": []
   },
   "source": [
    "# 3) Continue working with countries\n",
    "\n",
    "In the tutorial, we focused on cleaning up inconsistencies in the \"Country\" column.  Run the code cell below to view the list of unique values that we ended with."
   ]
  },
  {
   "cell_type": "code",
   "execution_count": 9,
   "id": "6ffa6c92",
   "metadata": {
    "execution": {
     "iopub.execute_input": "2023-03-27T18:33:45.106861Z",
     "iopub.status.busy": "2023-03-27T18:33:45.106360Z",
     "iopub.status.idle": "2023-03-27T18:33:45.115879Z",
     "shell.execute_reply": "2023-03-27T18:33:45.114623Z"
    },
    "papermill": {
     "duration": 0.019399,
     "end_time": "2023-03-27T18:33:45.118374",
     "exception": false,
     "start_time": "2023-03-27T18:33:45.098975",
     "status": "completed"
    },
    "tags": []
   },
   "outputs": [
    {
     "data": {
      "text/plain": [
       "array(['australia', 'austria', 'canada', 'china', 'finland', 'france',\n",
       "       'germany', 'greece', 'hongkong', 'ireland', 'italy', 'japan',\n",
       "       'macau', 'malaysia', 'mauritius', 'netherland', 'new zealand',\n",
       "       'norway', 'pakistan', 'portugal', 'russian federation',\n",
       "       'saudi arabia', 'scotland', 'singapore', 'south korea', 'spain',\n",
       "       'sweden', 'thailand', 'turkey', 'uk', 'urbana', 'usa', 'usofa'],\n",
       "      dtype=object)"
      ]
     },
     "execution_count": 9,
     "metadata": {},
     "output_type": "execute_result"
    }
   ],
   "source": [
    "# get all the unique values in the 'City' column\n",
    "countries = professors['Country'].unique()\n",
    "\n",
    "# sort them alphabetically and then take a closer look\n",
    "countries.sort()\n",
    "countries"
   ]
  },
  {
   "cell_type": "markdown",
   "id": "1757ded1",
   "metadata": {
    "papermill": {
     "duration": 0.005624,
     "end_time": "2023-03-27T18:33:45.130088",
     "exception": false,
     "start_time": "2023-03-27T18:33:45.124464",
     "status": "completed"
    },
    "tags": []
   },
   "source": [
    "Take another look at the \"Country\" column and see if there's any more data cleaning we need to do.\n",
    "\n",
    "It looks like 'usa' and 'usofa' should be the same country.  Correct the \"Country\" column in the dataframe to replace 'usofa' with 'usa'.\n",
    "\n",
    "**Use the most recent version of the DataFrame (with the whitespaces at the beginning and end of cells removed) from question 2.**"
   ]
  },
  {
   "cell_type": "code",
   "execution_count": 10,
   "id": "0bfc0ab5",
   "metadata": {
    "execution": {
     "iopub.execute_input": "2023-03-27T18:33:45.143921Z",
     "iopub.status.busy": "2023-03-27T18:33:45.143479Z",
     "iopub.status.idle": "2023-03-27T18:33:45.159652Z",
     "shell.execute_reply": "2023-03-27T18:33:45.158226Z"
    },
    "papermill": {
     "duration": 0.026655,
     "end_time": "2023-03-27T18:33:45.162633",
     "exception": false,
     "start_time": "2023-03-27T18:33:45.135978",
     "status": "completed"
    },
    "tags": []
   },
   "outputs": [
    {
     "name": "stdout",
     "output_type": "stream",
     "text": [
      "[('usa', 100), ('usofa', 75), ('austria', 60), ('australia', 50), ('spain', 50), ('urbana', 44), ('uk', 40), ('malaysia', 36), ('pakistan', 36), ('portugal', 36)]\n",
      "All done!\n"
     ]
    },
    {
     "data": {
      "application/javascript": [
       "parent.postMessage({\"jupyterEvent\": \"custom.exercise_interaction\", \"data\": {\"outcomeType\": 1, \"valueTowardsCompletion\": 0.3333333333333333, \"interactionType\": 1, \"questionType\": 1, \"questionId\": \"3_WorkingWithCities\", \"learnToolsVersion\": \"0.3.4\", \"failureMessage\": \"\", \"exceptionClass\": \"\", \"trace\": \"\"}}, \"*\")"
      ],
      "text/plain": [
       "<IPython.core.display.Javascript object>"
      ]
     },
     "metadata": {},
     "output_type": "display_data"
    },
    {
     "data": {
      "text/markdown": [
       "<span style=\"color:#33cc33\">Correct</span>"
      ],
      "text/plain": [
       "Correct"
      ]
     },
     "metadata": {},
     "output_type": "display_data"
    }
   ],
   "source": [
    "# TODO: Your code here!\n",
    "matches = fuzzywuzzy.process.extract('usa', countries, limit=10, scorer=fuzzywuzzy.fuzz.token_sort_ratio)\n",
    "print(matches)\n",
    "replace_matches_in_column(df=professors, column='Country', string_to_match=\"usa\", min_ratio=64)\n",
    "\n",
    "# Check your answer\n",
    "q3.check()"
   ]
  },
  {
   "cell_type": "code",
   "execution_count": 11,
   "id": "099a605e",
   "metadata": {
    "execution": {
     "iopub.execute_input": "2023-03-27T18:33:45.177491Z",
     "iopub.status.busy": "2023-03-27T18:33:45.177019Z",
     "iopub.status.idle": "2023-03-27T18:33:45.181202Z",
     "shell.execute_reply": "2023-03-27T18:33:45.180310Z"
    },
    "papermill": {
     "duration": 0.014515,
     "end_time": "2023-03-27T18:33:45.183479",
     "exception": false,
     "start_time": "2023-03-27T18:33:45.168964",
     "status": "completed"
    },
    "tags": []
   },
   "outputs": [],
   "source": [
    "# Lines below will give you a hint or solution code\n",
    "#q3.hint()\n",
    "#q3.solution()"
   ]
  },
  {
   "cell_type": "markdown",
   "id": "82306d1b",
   "metadata": {
    "papermill": {
     "duration": 0.006252,
     "end_time": "2023-03-27T18:33:45.196038",
     "exception": false,
     "start_time": "2023-03-27T18:33:45.189786",
     "status": "completed"
    },
    "tags": []
   },
   "source": [
    "# Congratulations!\n",
    "\n",
    "Congratulations for completing the **Data Cleaning** course on Kaggle Learn!\n",
    "\n",
    "To practice your new skills, you're encouraged to download and investigate some of [Kaggle's Datasets](https://www.kaggle.com/datasets)."
   ]
  },
  {
   "cell_type": "markdown",
   "id": "5204e497",
   "metadata": {
    "papermill": {
     "duration": 0.005768,
     "end_time": "2023-03-27T18:33:45.208097",
     "exception": false,
     "start_time": "2023-03-27T18:33:45.202329",
     "status": "completed"
    },
    "tags": []
   },
   "source": [
    "---\n",
    "\n",
    "\n",
    "\n",
    "\n",
    "*Have questions or comments? Visit the [course discussion forum](https://www.kaggle.com/learn/data-cleaning/discussion) to chat with other learners.*"
   ]
  }
 ],
 "metadata": {
  "kernelspec": {
   "display_name": "Python 3",
   "language": "python",
   "name": "python3"
  },
  "language_info": {
   "codemirror_mode": {
    "name": "ipython",
    "version": 3
   },
   "file_extension": ".py",
   "mimetype": "text/x-python",
   "name": "python",
   "nbconvert_exporter": "python",
   "pygments_lexer": "ipython3",
   "version": "3.7.12"
  },
  "papermill": {
   "default_parameters": {},
   "duration": 16.598964,
   "end_time": "2023-03-27T18:33:48.771065",
   "environment_variables": {},
   "exception": null,
   "input_path": "__notebook__.ipynb",
   "output_path": "__notebook__.ipynb",
   "parameters": {},
   "start_time": "2023-03-27T18:33:32.172101",
   "version": "2.4.0"
  }
 },
 "nbformat": 4,
 "nbformat_minor": 5
}
