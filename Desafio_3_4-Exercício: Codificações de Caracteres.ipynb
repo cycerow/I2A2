{
 "cells": [
  {
   "cell_type": "markdown",
   "id": "0d07009c",
   "metadata": {
    "papermill": {
     "duration": 0.005616,
     "end_time": "2023-03-27T18:21:17.201996",
     "exception": false,
     "start_time": "2023-03-27T18:21:17.196380",
     "status": "completed"
    },
    "tags": []
   },
   "source": [
    "**This notebook is an exercise in the [Data Cleaning](https://www.kaggle.com/learn/data-cleaning) course.  You can reference the tutorial at [this link](https://www.kaggle.com/alexisbcook/character-encodings).**\n",
    "\n",
    "---\n"
   ]
  },
  {
   "cell_type": "markdown",
   "id": "9a4d95ce",
   "metadata": {
    "papermill": {
     "duration": 0.004063,
     "end_time": "2023-03-27T18:21:17.210550",
     "exception": false,
     "start_time": "2023-03-27T18:21:17.206487",
     "status": "completed"
    },
    "tags": []
   },
   "source": [
    "In this exercise, you'll apply what you learned in the **Character encodings** tutorial.\n",
    "\n",
    "# Setup\n",
    "\n",
    "The questions below will give you feedback on your work. Run the following cell to set up the feedback system."
   ]
  },
  {
   "cell_type": "code",
   "execution_count": 1,
   "id": "ee93bdda",
   "metadata": {
    "execution": {
     "iopub.execute_input": "2023-03-27T18:21:17.221203Z",
     "iopub.status.busy": "2023-03-27T18:21:17.220786Z",
     "iopub.status.idle": "2023-03-27T18:21:17.303996Z",
     "shell.execute_reply": "2023-03-27T18:21:17.303106Z"
    },
    "papermill": {
     "duration": 0.092005,
     "end_time": "2023-03-27T18:21:17.306914",
     "exception": false,
     "start_time": "2023-03-27T18:21:17.214909",
     "status": "completed"
    },
    "tags": []
   },
   "outputs": [
    {
     "name": "stdout",
     "output_type": "stream",
     "text": [
      "Setup Complete\n"
     ]
    }
   ],
   "source": [
    "from learntools.core import binder\n",
    "binder.bind(globals())\n",
    "from learntools.data_cleaning.ex4 import *\n",
    "print(\"Setup Complete\")"
   ]
  },
  {
   "cell_type": "markdown",
   "id": "5d44ece4",
   "metadata": {
    "papermill": {
     "duration": 0.004258,
     "end_time": "2023-03-27T18:21:17.315857",
     "exception": false,
     "start_time": "2023-03-27T18:21:17.311599",
     "status": "completed"
    },
    "tags": []
   },
   "source": [
    "# Get our environment set up\n",
    "\n",
    "The first thing we'll need to do is load in the libraries we'll be using."
   ]
  },
  {
   "cell_type": "code",
   "execution_count": 2,
   "id": "77549f89",
   "metadata": {
    "execution": {
     "iopub.execute_input": "2023-03-27T18:21:17.327219Z",
     "iopub.status.busy": "2023-03-27T18:21:17.326244Z",
     "iopub.status.idle": "2023-03-27T18:21:17.331193Z",
     "shell.execute_reply": "2023-03-27T18:21:17.330303Z"
    },
    "papermill": {
     "duration": 0.012845,
     "end_time": "2023-03-27T18:21:17.333239",
     "exception": false,
     "start_time": "2023-03-27T18:21:17.320394",
     "status": "completed"
    },
    "tags": []
   },
   "outputs": [],
   "source": [
    "# modules we'll use\n",
    "import pandas as pd\n",
    "import numpy as np\n",
    "\n",
    "# helpful character encoding module\n",
    "import charset_normalizer\n",
    "\n",
    "# set seed for reproducibility\n",
    "np.random.seed(0)"
   ]
  },
  {
   "cell_type": "markdown",
   "id": "735e772b",
   "metadata": {
    "papermill": {
     "duration": 0.004285,
     "end_time": "2023-03-27T18:21:17.341965",
     "exception": false,
     "start_time": "2023-03-27T18:21:17.337680",
     "status": "completed"
    },
    "tags": []
   },
   "source": [
    "# 1) What are encodings?\n",
    "\n",
    "You're working with a dataset composed of bytes.  Run the code cell below to print a sample entry."
   ]
  },
  {
   "cell_type": "code",
   "execution_count": 3,
   "id": "d93c34ce",
   "metadata": {
    "execution": {
     "iopub.execute_input": "2023-03-27T18:21:17.353104Z",
     "iopub.status.busy": "2023-03-27T18:21:17.352383Z",
     "iopub.status.idle": "2023-03-27T18:21:17.358315Z",
     "shell.execute_reply": "2023-03-27T18:21:17.356889Z"
    },
    "papermill": {
     "duration": 0.014433,
     "end_time": "2023-03-27T18:21:17.360868",
     "exception": false,
     "start_time": "2023-03-27T18:21:17.346435",
     "status": "completed"
    },
    "tags": []
   },
   "outputs": [
    {
     "name": "stdout",
     "output_type": "stream",
     "text": [
      "b'\\xa7A\\xa6n'\n",
      "data type: <class 'bytes'>\n"
     ]
    }
   ],
   "source": [
    "sample_entry = b'\\xa7A\\xa6n'\n",
    "print(sample_entry)\n",
    "print('data type:', type(sample_entry))"
   ]
  },
  {
   "cell_type": "markdown",
   "id": "5b554c21",
   "metadata": {
    "papermill": {
     "duration": 0.004399,
     "end_time": "2023-03-27T18:21:17.370442",
     "exception": false,
     "start_time": "2023-03-27T18:21:17.366043",
     "status": "completed"
    },
    "tags": []
   },
   "source": [
    "You notice that it doesn't use the standard UTF-8 encoding. \n",
    "\n",
    "Use the next code cell to create a variable `new_entry` that changes the encoding from `\"big5-tw\"` to `\"utf-8\"`.  `new_entry` should have the bytes datatype."
   ]
  },
  {
   "cell_type": "code",
   "execution_count": 4,
   "id": "93bdad45",
   "metadata": {
    "execution": {
     "iopub.execute_input": "2023-03-27T18:21:17.382274Z",
     "iopub.status.busy": "2023-03-27T18:21:17.381580Z",
     "iopub.status.idle": "2023-03-27T18:21:17.390384Z",
     "shell.execute_reply": "2023-03-27T18:21:17.389487Z"
    },
    "papermill": {
     "duration": 0.016609,
     "end_time": "2023-03-27T18:21:17.392340",
     "exception": false,
     "start_time": "2023-03-27T18:21:17.375731",
     "status": "completed"
    },
    "tags": []
   },
   "outputs": [
    {
     "data": {
      "application/javascript": [
       "parent.postMessage({\"jupyterEvent\": \"custom.exercise_interaction\", \"data\": {\"outcomeType\": 1, \"valueTowardsCompletion\": 0.3333333333333333, \"interactionType\": 1, \"questionType\": 1, \"questionId\": \"1_EncodingsIntro\", \"learnToolsVersion\": \"0.3.4\", \"failureMessage\": \"\", \"exceptionClass\": \"\", \"trace\": \"\"}}, \"*\")"
      ],
      "text/plain": [
       "<IPython.core.display.Javascript object>"
      ]
     },
     "metadata": {},
     "output_type": "display_data"
    },
    {
     "data": {
      "text/markdown": [
       "<span style=\"color:#33cc33\">Correct</span>"
      ],
      "text/plain": [
       "Correct"
      ]
     },
     "metadata": {},
     "output_type": "display_data"
    }
   ],
   "source": [
    "before = sample_entry.decode(\"big5-tw\")\n",
    "new_entry = before.encode()\n",
    "\n",
    "# Check your answer\n",
    "q1.check()"
   ]
  },
  {
   "cell_type": "code",
   "execution_count": 5,
   "id": "517103a5",
   "metadata": {
    "execution": {
     "iopub.execute_input": "2023-03-27T18:21:17.404784Z",
     "iopub.status.busy": "2023-03-27T18:21:17.404355Z",
     "iopub.status.idle": "2023-03-27T18:21:17.408966Z",
     "shell.execute_reply": "2023-03-27T18:21:17.408194Z"
    },
    "papermill": {
     "duration": 0.014504,
     "end_time": "2023-03-27T18:21:17.411723",
     "exception": false,
     "start_time": "2023-03-27T18:21:17.397219",
     "status": "completed"
    },
    "tags": []
   },
   "outputs": [],
   "source": [
    "# Lines below will give you a hint or solution code\n",
    "#q1.hint()\n",
    "#q1.solution()"
   ]
  },
  {
   "cell_type": "markdown",
   "id": "05dbf3ef",
   "metadata": {
    "papermill": {
     "duration": 0.005002,
     "end_time": "2023-03-27T18:21:17.424079",
     "exception": false,
     "start_time": "2023-03-27T18:21:17.419077",
     "status": "completed"
    },
    "tags": []
   },
   "source": [
    "# 2) Reading in files with encoding problems\n",
    "\n",
    "Use the code cell below to read in this file at path `\"../input/fatal-police-shootings-in-the-us/PoliceKillingsUS.csv\"`.  \n",
    "\n",
    "Figure out what the correct encoding should be and read in the file to a DataFrame `police_killings`."
   ]
  },
  {
   "cell_type": "code",
   "execution_count": 6,
   "id": "347f9432",
   "metadata": {
    "execution": {
     "iopub.execute_input": "2023-03-27T18:21:17.436340Z",
     "iopub.status.busy": "2023-03-27T18:21:17.435230Z",
     "iopub.status.idle": "2023-03-27T18:21:17.461362Z",
     "shell.execute_reply": "2023-03-27T18:21:17.460193Z"
    },
    "papermill": {
     "duration": 0.034673,
     "end_time": "2023-03-27T18:21:17.463678",
     "exception": false,
     "start_time": "2023-03-27T18:21:17.429005",
     "status": "completed"
    },
    "tags": []
   },
   "outputs": [
    {
     "data": {
      "application/javascript": [
       "parent.postMessage({\"jupyterEvent\": \"custom.exercise_interaction\", \"data\": {\"outcomeType\": 1, \"valueTowardsCompletion\": 0.3333333333333333, \"interactionType\": 1, \"questionType\": 1, \"questionId\": \"2_ReadIn\", \"learnToolsVersion\": \"0.3.4\", \"failureMessage\": \"\", \"exceptionClass\": \"\", \"trace\": \"\"}}, \"*\")"
      ],
      "text/plain": [
       "<IPython.core.display.Javascript object>"
      ]
     },
     "metadata": {},
     "output_type": "display_data"
    },
    {
     "data": {
      "text/markdown": [
       "<span style=\"color:#33cc33\">Correct</span>"
      ],
      "text/plain": [
       "Correct"
      ]
     },
     "metadata": {},
     "output_type": "display_data"
    }
   ],
   "source": [
    "# TODO: Load in the DataFrame correctly.\n",
    "police_killings = pd.read_csv(\"../input/fatal-police-shootings-in-the-us/PoliceKillingsUS.csv\", encoding='Windows-1252')\n",
    "\n",
    "# Check your answer\n",
    "q2.check()"
   ]
  },
  {
   "cell_type": "markdown",
   "id": "380de03a",
   "metadata": {
    "papermill": {
     "duration": 0.004804,
     "end_time": "2023-03-27T18:21:17.473688",
     "exception": false,
     "start_time": "2023-03-27T18:21:17.468884",
     "status": "completed"
    },
    "tags": []
   },
   "source": [
    "Feel free to use any additional code cells for supplemental work.  To get credit for finishing this question, you'll need to run `q2.check()` and get a result of **Correct**."
   ]
  },
  {
   "cell_type": "code",
   "execution_count": 7,
   "id": "afd591ae",
   "metadata": {
    "execution": {
     "iopub.execute_input": "2023-03-27T18:21:17.485154Z",
     "iopub.status.busy": "2023-03-27T18:21:17.484745Z",
     "iopub.status.idle": "2023-03-27T18:21:17.489844Z",
     "shell.execute_reply": "2023-03-27T18:21:17.488397Z"
    },
    "papermill": {
     "duration": 0.013591,
     "end_time": "2023-03-27T18:21:17.492211",
     "exception": false,
     "start_time": "2023-03-27T18:21:17.478620",
     "status": "completed"
    },
    "tags": []
   },
   "outputs": [],
   "source": [
    "# (Optional) Use this code cell for any additional work."
   ]
  },
  {
   "cell_type": "code",
   "execution_count": 8,
   "id": "e8003628",
   "metadata": {
    "execution": {
     "iopub.execute_input": "2023-03-27T18:21:17.503639Z",
     "iopub.status.busy": "2023-03-27T18:21:17.503291Z",
     "iopub.status.idle": "2023-03-27T18:21:17.507904Z",
     "shell.execute_reply": "2023-03-27T18:21:17.506787Z"
    },
    "papermill": {
     "duration": 0.013229,
     "end_time": "2023-03-27T18:21:17.510444",
     "exception": false,
     "start_time": "2023-03-27T18:21:17.497215",
     "status": "completed"
    },
    "tags": []
   },
   "outputs": [],
   "source": [
    "# Lines below will give you a hint or solution code\n",
    "#q2.hint()\n",
    "#q2.solution()"
   ]
  },
  {
   "cell_type": "markdown",
   "id": "da5420e5",
   "metadata": {
    "papermill": {
     "duration": 0.004817,
     "end_time": "2023-03-27T18:21:17.520318",
     "exception": false,
     "start_time": "2023-03-27T18:21:17.515501",
     "status": "completed"
    },
    "tags": []
   },
   "source": [
    "# 3) Saving your files with UTF-8 encoding\n",
    "\n",
    "Save a version of the police killings dataset to CSV with UTF-8 encoding.  Your answer will be marked correct after saving this file.  \n",
    "\n",
    "Note: When using the `to_csv()` method, supply only the name of the file (e.g., `\"my_file.csv\"`).  This saves the file at the filepath `\"/kaggle/working/my_file.csv\"`."
   ]
  },
  {
   "cell_type": "code",
   "execution_count": 9,
   "id": "bc93954f",
   "metadata": {
    "execution": {
     "iopub.execute_input": "2023-03-27T18:21:17.532040Z",
     "iopub.status.busy": "2023-03-27T18:21:17.531642Z",
     "iopub.status.idle": "2023-03-27T18:21:17.571108Z",
     "shell.execute_reply": "2023-03-27T18:21:17.570211Z"
    },
    "papermill": {
     "duration": 0.048091,
     "end_time": "2023-03-27T18:21:17.573448",
     "exception": false,
     "start_time": "2023-03-27T18:21:17.525357",
     "status": "completed"
    },
    "tags": []
   },
   "outputs": [
    {
     "data": {
      "application/javascript": [
       "parent.postMessage({\"jupyterEvent\": \"custom.exercise_interaction\", \"data\": {\"outcomeType\": 1, \"valueTowardsCompletion\": 0.3333333333333333, \"interactionType\": 1, \"questionType\": 2, \"questionId\": \"3_SaveCSV\", \"learnToolsVersion\": \"0.3.4\", \"failureMessage\": \"\", \"exceptionClass\": \"\", \"trace\": \"\"}}, \"*\")"
      ],
      "text/plain": [
       "<IPython.core.display.Javascript object>"
      ]
     },
     "metadata": {},
     "output_type": "display_data"
    },
    {
     "data": {
      "text/markdown": [
       "<span style=\"color:#33cc33\">Correct</span>"
      ],
      "text/plain": [
       "Correct"
      ]
     },
     "metadata": {},
     "output_type": "display_data"
    }
   ],
   "source": [
    "# TODO: Save the police killings dataset to CSV\n",
    "police_killings .to_csv(\"police-killings-dataset.csv\")\n",
    "\n",
    "# Check your answer\n",
    "q3.check()"
   ]
  },
  {
   "cell_type": "code",
   "execution_count": 10,
   "id": "bf32e556",
   "metadata": {
    "execution": {
     "iopub.execute_input": "2023-03-27T18:21:17.586416Z",
     "iopub.status.busy": "2023-03-27T18:21:17.585435Z",
     "iopub.status.idle": "2023-03-27T18:21:17.590203Z",
     "shell.execute_reply": "2023-03-27T18:21:17.589212Z"
    },
    "papermill": {
     "duration": 0.013663,
     "end_time": "2023-03-27T18:21:17.592491",
     "exception": false,
     "start_time": "2023-03-27T18:21:17.578828",
     "status": "completed"
    },
    "tags": []
   },
   "outputs": [],
   "source": [
    "# Lines below will give you a hint or solution code\n",
    "#q3.hint()\n",
    "#q3.solution()"
   ]
  },
  {
   "cell_type": "markdown",
   "id": "7b1239bb",
   "metadata": {
    "papermill": {
     "duration": 0.004982,
     "end_time": "2023-03-27T18:21:17.602850",
     "exception": false,
     "start_time": "2023-03-27T18:21:17.597868",
     "status": "completed"
    },
    "tags": []
   },
   "source": [
    "# (Optional) More practice\n",
    "\n",
    "Check out [this dataset of files in different character encodings](https://www.kaggle.com/rtatman/character-encoding-examples). Can you read in all the files with their original encodings and them save them out as UTF-8 files?\n",
    "\n",
    "If you have a file that's in UTF-8 but has just a couple of weird-looking characters in it, you can try out the [ftfy module](https://ftfy.readthedocs.io/en/latest/#) and see if it helps. \n",
    "\n",
    "# Keep going\n",
    "\n",
    "In the final lesson, learn how to [**clean up inconsistent text entries**](https://www.kaggle.com/alexisbcook/inconsistent-data-entry) in your dataset."
   ]
  },
  {
   "cell_type": "markdown",
   "id": "f3894749",
   "metadata": {
    "papermill": {
     "duration": 0.00515,
     "end_time": "2023-03-27T18:21:17.613197",
     "exception": false,
     "start_time": "2023-03-27T18:21:17.608047",
     "status": "completed"
    },
    "tags": []
   },
   "source": [
    "---\n",
    "\n",
    "\n",
    "\n",
    "\n",
    "*Have questions or comments? Visit the [course discussion forum](https://www.kaggle.com/learn/data-cleaning/discussion) to chat with other learners.*"
   ]
  }
 ],
 "metadata": {
  "kernelspec": {
   "display_name": "Python 3",
   "language": "python",
   "name": "python3"
  },
  "language_info": {
   "codemirror_mode": {
    "name": "ipython",
    "version": 3
   },
   "file_extension": ".py",
   "mimetype": "text/x-python",
   "name": "python",
   "nbconvert_exporter": "python",
   "pygments_lexer": "ipython3",
   "version": "3.7.12"
  },
  "papermill": {
   "default_parameters": {},
   "duration": 11.118812,
   "end_time": "2023-03-27T18:21:18.240277",
   "environment_variables": {},
   "exception": null,
   "input_path": "__notebook__.ipynb",
   "output_path": "__notebook__.ipynb",
   "parameters": {},
   "start_time": "2023-03-27T18:21:07.121465",
   "version": "2.4.0"
  }
 },
 "nbformat": 4,
 "nbformat_minor": 5
}
