{
  "nbformat": 4,
  "nbformat_minor": 0,
  "metadata": {
    "colab": {
      "provenance": [],
      "authorship_tag": "ABX9TyOUNzF+3WJdgD5Dn6Ax/5RQ",
      "include_colab_link": true
    },
    "kernelspec": {
      "name": "python3",
      "display_name": "Python 3"
    },
    "language_info": {
      "name": "python"
    }
  },
  "cells": [
    {
      "cell_type": "markdown",
      "metadata": {
        "id": "view-in-github",
        "colab_type": "text"
      },
      "source": [
        "<a href=\"https://colab.research.google.com/github/cycerow/I2A2_AI_industry/blob/main/Desafio_3_Curso_Data_Cleaning.ipynb\" target=\"_parent\"><img src=\"https://colab.research.google.com/assets/colab-badge.svg\" alt=\"Open In Colab\"/></a>"
      ]
    },
    {
      "cell_type": "markdown",
      "source": [
        "#**DATA CLEANING**\n",
        "\n",
        "---\n",
        "Bem-vindo ao curso de limpeza de dados no Kaggle Learn!\n",
        "\n",
        "\\\n",
        "\n",
        "https://www.kaggle.com/learn/data-cleaning\n",
        "\n",
        "\\\n",
        "\n",
        "A limpeza de dados é uma parte fundamental da ciência de dados, mas pode ser profundamente frustrante. Por que alguns de seus campos de texto podem estar ilegíveis. Neste curso, você aprenderá como lidar com alguns dos problemas mais comuns de limpeza de dados para que possa realmente analisar seus dados mais rapidamente. Você fará cinco exercícios práticos com dados reais e confusos e responderá a algumas das perguntas mais frequentes sobre limpeza de dados.\n",
        "\n",
        "\n",
        "1.   Handling Missing Values (Manipulando os dados)\n",
        "2.   Scaling and Normalization (Dimensionamento e normalização)\n",
        "3.   Parsing Dates (Análise de datas)\n",
        "4.   Character Encondings (Codificação de caractere)\n",
        "5.   Inconsistent Data Entry (Entrada de dados inconsistente)\n",
        "\n"
      ],
      "metadata": {
        "id": "IgUb5S37nbBy"
      }
    },
    {
      "cell_type": "markdown",
      "source": [],
      "metadata": {
        "id": "_4ZTe4EPq1n4"
      }
    }
  ]
}