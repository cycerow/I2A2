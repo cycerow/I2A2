{
 "cells": [
  {
   "cell_type": "markdown",
   "id": "657333f6",
   "metadata": {
    "papermill": {
     "duration": 0.005895,
     "end_time": "2023-03-27T19:26:53.291573",
     "exception": false,
     "start_time": "2023-03-27T19:26:53.285678",
     "status": "completed"
    },
    "tags": []
   },
   "source": [
    "**This notebook is an exercise in the [Data Cleaning](https://www.kaggle.com/learn/data-cleaning) course.  You can reference the tutorial at [this link](https://www.kaggle.com/alexisbcook/character-encodings).**\n",
    "\n",
    "---\n"
   ]
  },
  {
   "cell_type": "markdown",
   "id": "959ec0a3",
   "metadata": {
    "papermill": {
     "duration": 0.004416,
     "end_time": "2023-03-27T19:26:53.300905",
     "exception": false,
     "start_time": "2023-03-27T19:26:53.296489",
     "status": "completed"
    },
    "tags": []
   },
   "source": [
    "In this exercise, you'll apply what you learned in the **Character encodings** tutorial.\n",
    "\n",
    "# Setup\n",
    "\n",
    "The questions below will give you feedback on your work. Run the following cell to set up the feedback system."
   ]
  },
  {
   "cell_type": "code",
   "execution_count": 1,
   "id": "8350a105",
   "metadata": {
    "execution": {
     "iopub.execute_input": "2023-03-27T19:26:53.313133Z",
     "iopub.status.busy": "2023-03-27T19:26:53.311971Z",
     "iopub.status.idle": "2023-03-27T19:26:53.406871Z",
     "shell.execute_reply": "2023-03-27T19:26:53.405514Z"
    },
    "papermill": {
     "duration": 0.104996,
     "end_time": "2023-03-27T19:26:53.410615",
     "exception": false,
     "start_time": "2023-03-27T19:26:53.305619",
     "status": "completed"
    },
    "tags": []
   },
   "outputs": [
    {
     "name": "stdout",
     "output_type": "stream",
     "text": [
      "Setup Complete\n"
     ]
    }
   ],
   "source": [
    "from learntools.core import binder\n",
    "binder.bind(globals())\n",
    "from learntools.data_cleaning.ex4 import *\n",
    "print(\"Setup Complete\")"
   ]
  },
  {
   "cell_type": "markdown",
   "id": "5e3473ea",
   "metadata": {
    "papermill": {
     "duration": 0.004765,
     "end_time": "2023-03-27T19:26:53.421277",
     "exception": false,
     "start_time": "2023-03-27T19:26:53.416512",
     "status": "completed"
    },
    "tags": []
   },
   "source": [
    "# Get our environment set up\n",
    "\n",
    "The first thing we'll need to do is load in the libraries we'll be using."
   ]
  },
  {
   "cell_type": "code",
   "execution_count": 2,
   "id": "52889cef",
   "metadata": {
    "execution": {
     "iopub.execute_input": "2023-03-27T19:26:53.434492Z",
     "iopub.status.busy": "2023-03-27T19:26:53.433783Z",
     "iopub.status.idle": "2023-03-27T19:26:53.439421Z",
     "shell.execute_reply": "2023-03-27T19:26:53.438099Z"
    },
    "papermill": {
     "duration": 0.015317,
     "end_time": "2023-03-27T19:26:53.442315",
     "exception": false,
     "start_time": "2023-03-27T19:26:53.426998",
     "status": "completed"
    },
    "tags": []
   },
   "outputs": [],
   "source": [
    "# modules we'll use\n",
    "import pandas as pd\n",
    "import numpy as np\n",
    "\n",
    "# helpful character encoding module\n",
    "import charset_normalizer\n",
    "\n",
    "# set seed for reproducibility\n",
    "np.random.seed(0)"
   ]
  },
  {
   "cell_type": "markdown",
   "id": "ad88d337",
   "metadata": {
    "papermill": {
     "duration": 0.004721,
     "end_time": "2023-03-27T19:26:53.452002",
     "exception": false,
     "start_time": "2023-03-27T19:26:53.447281",
     "status": "completed"
    },
    "tags": []
   },
   "source": [
    "# 1) What are encodings?\n",
    "\n",
    "You're working with a dataset composed of bytes.  Run the code cell below to print a sample entry."
   ]
  },
  {
   "cell_type": "code",
   "execution_count": 3,
   "id": "5bd1b877",
   "metadata": {
    "execution": {
     "iopub.execute_input": "2023-03-27T19:26:53.464304Z",
     "iopub.status.busy": "2023-03-27T19:26:53.463622Z",
     "iopub.status.idle": "2023-03-27T19:26:53.468989Z",
     "shell.execute_reply": "2023-03-27T19:26:53.467973Z"
    },
    "papermill": {
     "duration": 0.014314,
     "end_time": "2023-03-27T19:26:53.471338",
     "exception": false,
     "start_time": "2023-03-27T19:26:53.457024",
     "status": "completed"
    },
    "tags": []
   },
   "outputs": [
    {
     "name": "stdout",
     "output_type": "stream",
     "text": [
      "b'\\xa7A\\xa6n'\n",
      "data type: <class 'bytes'>\n"
     ]
    }
   ],
   "source": [
    "sample_entry = b'\\xa7A\\xa6n'\n",
    "print(sample_entry)\n",
    "print('data type:', type(sample_entry))"
   ]
  },
  {
   "cell_type": "markdown",
   "id": "e37621d0",
   "metadata": {
    "papermill": {
     "duration": 0.004649,
     "end_time": "2023-03-27T19:26:53.480992",
     "exception": false,
     "start_time": "2023-03-27T19:26:53.476343",
     "status": "completed"
    },
    "tags": []
   },
   "source": [
    "You notice that it doesn't use the standard UTF-8 encoding. \n",
    "\n",
    "Use the next code cell to create a variable `new_entry` that changes the encoding from `\"big5-tw\"` to `\"utf-8\"`.  `new_entry` should have the bytes datatype."
   ]
  },
  {
   "cell_type": "code",
   "execution_count": 4,
   "id": "c65a0e59",
   "metadata": {
    "execution": {
     "iopub.execute_input": "2023-03-27T19:26:53.493333Z",
     "iopub.status.busy": "2023-03-27T19:26:53.492611Z",
     "iopub.status.idle": "2023-03-27T19:26:53.503562Z",
     "shell.execute_reply": "2023-03-27T19:26:53.502200Z"
    },
    "papermill": {
     "duration": 0.020139,
     "end_time": "2023-03-27T19:26:53.506186",
     "exception": false,
     "start_time": "2023-03-27T19:26:53.486047",
     "status": "completed"
    },
    "tags": []
   },
   "outputs": [
    {
     "data": {
      "application/javascript": [
       "parent.postMessage({\"jupyterEvent\": \"custom.exercise_interaction\", \"data\": {\"outcomeType\": 1, \"valueTowardsCompletion\": 0.3333333333333333, \"interactionType\": 1, \"questionType\": 1, \"questionId\": \"1_EncodingsIntro\", \"learnToolsVersion\": \"0.3.4\", \"failureMessage\": \"\", \"exceptionClass\": \"\", \"trace\": \"\"}}, \"*\")"
      ],
      "text/plain": [
       "<IPython.core.display.Javascript object>"
      ]
     },
     "metadata": {},
     "output_type": "display_data"
    },
    {
     "data": {
      "text/markdown": [
       "<span style=\"color:#33cc33\">Correct</span>"
      ],
      "text/plain": [
       "Correct"
      ]
     },
     "metadata": {},
     "output_type": "display_data"
    }
   ],
   "source": [
    "before = sample_entry.decode(\"big5-tw\")\n",
    "new_entry = before.encode()\n",
    "\n",
    "# Check your answer\n",
    "q1.check()"
   ]
  },
  {
   "cell_type": "code",
   "execution_count": 5,
   "id": "a45a4341",
   "metadata": {
    "execution": {
     "iopub.execute_input": "2023-03-27T19:26:53.518431Z",
     "iopub.status.busy": "2023-03-27T19:26:53.518030Z",
     "iopub.status.idle": "2023-03-27T19:26:53.523352Z",
     "shell.execute_reply": "2023-03-27T19:26:53.522103Z"
    },
    "papermill": {
     "duration": 0.014916,
     "end_time": "2023-03-27T19:26:53.526247",
     "exception": false,
     "start_time": "2023-03-27T19:26:53.511331",
     "status": "completed"
    },
    "tags": []
   },
   "outputs": [],
   "source": [
    "# Lines below will give you a hint or solution code\n",
    "#q1.hint()\n",
    "#q1.solution()"
   ]
  },
  {
   "cell_type": "markdown",
   "id": "e57d8b78",
   "metadata": {
    "papermill": {
     "duration": 0.004969,
     "end_time": "2023-03-27T19:26:53.536525",
     "exception": false,
     "start_time": "2023-03-27T19:26:53.531556",
     "status": "completed"
    },
    "tags": []
   },
   "source": [
    "# 2) Reading in files with encoding problems\n",
    "\n",
    "Use the code cell below to read in this file at path `\"../input/fatal-police-shootings-in-the-us/PoliceKillingsUS.csv\"`.  \n",
    "\n",
    "Figure out what the correct encoding should be and read in the file to a DataFrame `police_killings`."
   ]
  },
  {
   "cell_type": "code",
   "execution_count": 6,
   "id": "c37329dd",
   "metadata": {
    "execution": {
     "iopub.execute_input": "2023-03-27T19:26:53.548765Z",
     "iopub.status.busy": "2023-03-27T19:26:53.548314Z",
     "iopub.status.idle": "2023-03-27T19:26:53.576614Z",
     "shell.execute_reply": "2023-03-27T19:26:53.575284Z"
    },
    "papermill": {
     "duration": 0.037643,
     "end_time": "2023-03-27T19:26:53.579312",
     "exception": false,
     "start_time": "2023-03-27T19:26:53.541669",
     "status": "completed"
    },
    "tags": []
   },
   "outputs": [
    {
     "data": {
      "application/javascript": [
       "parent.postMessage({\"jupyterEvent\": \"custom.exercise_interaction\", \"data\": {\"outcomeType\": 1, \"valueTowardsCompletion\": 0.3333333333333333, \"interactionType\": 1, \"questionType\": 1, \"questionId\": \"2_ReadIn\", \"learnToolsVersion\": \"0.3.4\", \"failureMessage\": \"\", \"exceptionClass\": \"\", \"trace\": \"\"}}, \"*\")"
      ],
      "text/plain": [
       "<IPython.core.display.Javascript object>"
      ]
     },
     "metadata": {},
     "output_type": "display_data"
    },
    {
     "data": {
      "text/markdown": [
       "<span style=\"color:#33cc33\">Correct</span>"
      ],
      "text/plain": [
       "Correct"
      ]
     },
     "metadata": {},
     "output_type": "display_data"
    }
   ],
   "source": [
    "# TODO: Load in the DataFrame correctly.\n",
    "police_killings = pd.read_csv(\"../input/fatal-police-shootings-in-the-us/PoliceKillingsUS.csv\", encoding='Windows-1252')\n",
    "\n",
    "# Check your answer\n",
    "q2.check()"
   ]
  },
  {
   "cell_type": "markdown",
   "id": "52a5d0ae",
   "metadata": {
    "papermill": {
     "duration": 0.005329,
     "end_time": "2023-03-27T19:26:53.590252",
     "exception": false,
     "start_time": "2023-03-27T19:26:53.584923",
     "status": "completed"
    },
    "tags": []
   },
   "source": [
    "Feel free to use any additional code cells for supplemental work.  To get credit for finishing this question, you'll need to run `q2.check()` and get a result of **Correct**."
   ]
  },
  {
   "cell_type": "code",
   "execution_count": 7,
   "id": "700620ab",
   "metadata": {
    "execution": {
     "iopub.execute_input": "2023-03-27T19:26:53.603255Z",
     "iopub.status.busy": "2023-03-27T19:26:53.602819Z",
     "iopub.status.idle": "2023-03-27T19:26:53.607594Z",
     "shell.execute_reply": "2023-03-27T19:26:53.606406Z"
    },
    "papermill": {
     "duration": 0.014489,
     "end_time": "2023-03-27T19:26:53.610260",
     "exception": false,
     "start_time": "2023-03-27T19:26:53.595771",
     "status": "completed"
    },
    "tags": []
   },
   "outputs": [],
   "source": [
    "# (Optional) Use this code cell for any additional work."
   ]
  },
  {
   "cell_type": "code",
   "execution_count": 8,
   "id": "cffebe38",
   "metadata": {
    "execution": {
     "iopub.execute_input": "2023-03-27T19:26:53.623399Z",
     "iopub.status.busy": "2023-03-27T19:26:53.622976Z",
     "iopub.status.idle": "2023-03-27T19:26:53.628210Z",
     "shell.execute_reply": "2023-03-27T19:26:53.626811Z"
    },
    "papermill": {
     "duration": 0.0147,
     "end_time": "2023-03-27T19:26:53.630544",
     "exception": false,
     "start_time": "2023-03-27T19:26:53.615844",
     "status": "completed"
    },
    "tags": []
   },
   "outputs": [],
   "source": [
    "# Lines below will give you a hint or solution code\n",
    "#q2.hint()\n",
    "#q2.solution()"
   ]
  },
  {
   "cell_type": "markdown",
   "id": "24258cee",
   "metadata": {
    "papermill": {
     "duration": 0.00527,
     "end_time": "2023-03-27T19:26:53.641283",
     "exception": false,
     "start_time": "2023-03-27T19:26:53.636013",
     "status": "completed"
    },
    "tags": []
   },
   "source": [
    "# 3) Saving your files with UTF-8 encoding\n",
    "\n",
    "Save a version of the police killings dataset to CSV with UTF-8 encoding.  Your answer will be marked correct after saving this file.  \n",
    "\n",
    "Note: When using the `to_csv()` method, supply only the name of the file (e.g., `\"my_file.csv\"`).  This saves the file at the filepath `\"/kaggle/working/my_file.csv\"`."
   ]
  },
  {
   "cell_type": "code",
   "execution_count": 9,
   "id": "8d364488",
   "metadata": {
    "execution": {
     "iopub.execute_input": "2023-03-27T19:26:53.654391Z",
     "iopub.status.busy": "2023-03-27T19:26:53.653964Z",
     "iopub.status.idle": "2023-03-27T19:26:53.696455Z",
     "shell.execute_reply": "2023-03-27T19:26:53.695075Z"
    },
    "papermill": {
     "duration": 0.052322,
     "end_time": "2023-03-27T19:26:53.699160",
     "exception": false,
     "start_time": "2023-03-27T19:26:53.646838",
     "status": "completed"
    },
    "tags": []
   },
   "outputs": [
    {
     "data": {
      "application/javascript": [
       "parent.postMessage({\"jupyterEvent\": \"custom.exercise_interaction\", \"data\": {\"outcomeType\": 1, \"valueTowardsCompletion\": 0.3333333333333333, \"interactionType\": 1, \"questionType\": 2, \"questionId\": \"3_SaveCSV\", \"learnToolsVersion\": \"0.3.4\", \"failureMessage\": \"\", \"exceptionClass\": \"\", \"trace\": \"\"}}, \"*\")"
      ],
      "text/plain": [
       "<IPython.core.display.Javascript object>"
      ]
     },
     "metadata": {},
     "output_type": "display_data"
    },
    {
     "data": {
      "text/markdown": [
       "<span style=\"color:#33cc33\">Correct</span>"
      ],
      "text/plain": [
       "Correct"
      ]
     },
     "metadata": {},
     "output_type": "display_data"
    }
   ],
   "source": [
    "# TODO: Save the police killings dataset to CSV\n",
    "police_killings .to_csv(\"police-killings-dataset.csv\")\n",
    "\n",
    "# Check your answer\n",
    "q3.check()"
   ]
  },
  {
   "cell_type": "code",
   "execution_count": 10,
   "id": "4f8bec9e",
   "metadata": {
    "execution": {
     "iopub.execute_input": "2023-03-27T19:26:53.713498Z",
     "iopub.status.busy": "2023-03-27T19:26:53.712266Z",
     "iopub.status.idle": "2023-03-27T19:26:53.717314Z",
     "shell.execute_reply": "2023-03-27T19:26:53.716374Z"
    },
    "papermill": {
     "duration": 0.014653,
     "end_time": "2023-03-27T19:26:53.719583",
     "exception": false,
     "start_time": "2023-03-27T19:26:53.704930",
     "status": "completed"
    },
    "tags": []
   },
   "outputs": [],
   "source": [
    "# Lines below will give you a hint or solution code\n",
    "#q3.hint()\n",
    "#q3.solution()"
   ]
  },
  {
   "cell_type": "markdown",
   "id": "c8ac911d",
   "metadata": {
    "papermill": {
     "duration": 0.005392,
     "end_time": "2023-03-27T19:26:53.730850",
     "exception": false,
     "start_time": "2023-03-27T19:26:53.725458",
     "status": "completed"
    },
    "tags": []
   },
   "source": [
    "# (Optional) More practice\n",
    "\n",
    "Check out [this dataset of files in different character encodings](https://www.kaggle.com/rtatman/character-encoding-examples). Can you read in all the files with their original encodings and them save them out as UTF-8 files?\n",
    "\n",
    "If you have a file that's in UTF-8 but has just a couple of weird-looking characters in it, you can try out the [ftfy module](https://ftfy.readthedocs.io/en/latest/#) and see if it helps. \n",
    "\n",
    "# Keep going\n",
    "\n",
    "In the final lesson, learn how to [**clean up inconsistent text entries**](https://www.kaggle.com/alexisbcook/inconsistent-data-entry) in your dataset."
   ]
  },
  {
   "cell_type": "markdown",
   "id": "ddf592f5",
   "metadata": {
    "papermill": {
     "duration": 0.0054,
     "end_time": "2023-03-27T19:26:53.741902",
     "exception": false,
     "start_time": "2023-03-27T19:26:53.736502",
     "status": "completed"
    },
    "tags": []
   },
   "source": [
    "---\n",
    "\n",
    "\n",
    "\n",
    "\n",
    "*Have questions or comments? Visit the [course discussion forum](https://www.kaggle.com/learn/data-cleaning/discussion) to chat with other learners.*"
   ]
  }
 ],
 "metadata": {
  "kernelspec": {
   "display_name": "Python 3",
   "language": "python",
   "name": "python3"
  },
  "language_info": {
   "codemirror_mode": {
    "name": "ipython",
    "version": 3
   },
   "file_extension": ".py",
   "mimetype": "text/x-python",
   "name": "python",
   "nbconvert_exporter": "python",
   "pygments_lexer": "ipython3",
   "version": "3.7.12"
  },
  "papermill": {
   "default_parameters": {},
   "duration": 13.685259,
   "end_time": "2023-03-27T19:26:54.470608",
   "environment_variables": {},
   "exception": null,
   "input_path": "__notebook__.ipynb",
   "output_path": "__notebook__.ipynb",
   "parameters": {},
   "start_time": "2023-03-27T19:26:40.785349",
   "version": "2.4.0"
  }
 },
 "nbformat": 4,
 "nbformat_minor": 5
}
