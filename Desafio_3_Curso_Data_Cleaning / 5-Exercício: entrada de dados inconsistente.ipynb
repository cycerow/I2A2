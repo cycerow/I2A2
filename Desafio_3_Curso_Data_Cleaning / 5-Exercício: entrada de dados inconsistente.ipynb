{
 "cells": [
  {
   "cell_type": "markdown",
   "id": "73493bb6",
   "metadata": {
    "papermill": {
     "duration": 0.006911,
     "end_time": "2023-03-27T19:28:35.009948",
     "exception": false,
     "start_time": "2023-03-27T19:28:35.003037",
     "status": "completed"
    },
    "tags": []
   },
   "source": [
    "**This notebook is an exercise in the [Data Cleaning](https://www.kaggle.com/learn/data-cleaning) course.  You can reference the tutorial at [this link](https://www.kaggle.com/alexisbcook/inconsistent-data-entry).**\n",
    "\n",
    "---\n"
   ]
  },
  {
   "cell_type": "markdown",
   "id": "3c3040c9",
   "metadata": {
    "papermill": {
     "duration": 0.0049,
     "end_time": "2023-03-27T19:28:35.020358",
     "exception": false,
     "start_time": "2023-03-27T19:28:35.015458",
     "status": "completed"
    },
    "tags": []
   },
   "source": [
    "In this exercise, you'll apply what you learned in the **Inconsistent data entry** tutorial.\n",
    "\n",
    "# Setup\n",
    "\n",
    "The questions below will give you feedback on your work. Run the following cell to set up the feedback system."
   ]
  },
  {
   "cell_type": "code",
   "execution_count": 1,
   "id": "ffd1ff4b",
   "metadata": {
    "execution": {
     "iopub.execute_input": "2023-03-27T19:28:35.033402Z",
     "iopub.status.busy": "2023-03-27T19:28:35.032590Z",
     "iopub.status.idle": "2023-03-27T19:28:35.253175Z",
     "shell.execute_reply": "2023-03-27T19:28:35.251759Z"
    },
    "papermill": {
     "duration": 0.231085,
     "end_time": "2023-03-27T19:28:35.256668",
     "exception": false,
     "start_time": "2023-03-27T19:28:35.025583",
     "status": "completed"
    },
    "tags": []
   },
   "outputs": [
    {
     "name": "stdout",
     "output_type": "stream",
     "text": [
      "Setup Complete\n"
     ]
    }
   ],
   "source": [
    "from learntools.core import binder\n",
    "binder.bind(globals())\n",
    "from learntools.data_cleaning.ex5 import *\n",
    "print(\"Setup Complete\")"
   ]
  },
  {
   "cell_type": "markdown",
   "id": "737c3eed",
   "metadata": {
    "papermill": {
     "duration": 0.005281,
     "end_time": "2023-03-27T19:28:35.267768",
     "exception": false,
     "start_time": "2023-03-27T19:28:35.262487",
     "status": "completed"
    },
    "tags": []
   },
   "source": [
    "# Get our environment set up\n",
    "\n",
    "The first thing we'll need to do is load in the libraries and dataset we'll be using.  We use the same dataset from the tutorial."
   ]
  },
  {
   "cell_type": "code",
   "execution_count": 2,
   "id": "e9409e06",
   "metadata": {
    "execution": {
     "iopub.execute_input": "2023-03-27T19:28:35.281489Z",
     "iopub.status.busy": "2023-03-27T19:28:35.280302Z",
     "iopub.status.idle": "2023-03-27T19:28:35.300948Z",
     "shell.execute_reply": "2023-03-27T19:28:35.299198Z"
    },
    "papermill": {
     "duration": 0.031231,
     "end_time": "2023-03-27T19:28:35.304300",
     "exception": false,
     "start_time": "2023-03-27T19:28:35.273069",
     "status": "completed"
    },
    "tags": []
   },
   "outputs": [],
   "source": [
    "# modules we'll use\n",
    "import pandas as pd\n",
    "import numpy as np\n",
    "\n",
    "# helpful modules\n",
    "import fuzzywuzzy\n",
    "from fuzzywuzzy import process\n",
    "import charset_normalizer\n",
    "\n",
    "# read in all our data\n",
    "professors = pd.read_csv(\"../input/pakistan-intellectual-capital/pakistan_intellectual_capital.csv\")\n",
    "\n",
    "# set seed for reproducibility\n",
    "np.random.seed(0)"
   ]
  },
  {
   "cell_type": "markdown",
   "id": "d9a2599d",
   "metadata": {
    "papermill": {
     "duration": 0.005182,
     "end_time": "2023-03-27T19:28:35.315053",
     "exception": false,
     "start_time": "2023-03-27T19:28:35.309871",
     "status": "completed"
    },
    "tags": []
   },
   "source": [
    "Next, we'll redo all of the work that we did in the tutorial."
   ]
  },
  {
   "cell_type": "code",
   "execution_count": 3,
   "id": "e0ff2822",
   "metadata": {
    "execution": {
     "iopub.execute_input": "2023-03-27T19:28:35.328800Z",
     "iopub.status.busy": "2023-03-27T19:28:35.327867Z",
     "iopub.status.idle": "2023-03-27T19:28:35.344886Z",
     "shell.execute_reply": "2023-03-27T19:28:35.343368Z"
    },
    "papermill": {
     "duration": 0.027383,
     "end_time": "2023-03-27T19:28:35.347966",
     "exception": false,
     "start_time": "2023-03-27T19:28:35.320583",
     "status": "completed"
    },
    "tags": []
   },
   "outputs": [
    {
     "name": "stdout",
     "output_type": "stream",
     "text": [
      "All done!\n"
     ]
    }
   ],
   "source": [
    "# convert to lower case\n",
    "professors['Country'] = professors['Country'].str.lower()\n",
    "# remove trailing white spaces\n",
    "professors['Country'] = professors['Country'].str.strip()\n",
    "\n",
    "# get the top 10 closest matches to \"south korea\"\n",
    "countries = professors['Country'].unique()\n",
    "matches = fuzzywuzzy.process.extract(\"south korea\", countries, limit=10, scorer=fuzzywuzzy.fuzz.token_sort_ratio)\n",
    "\n",
    "def replace_matches_in_column(df, column, string_to_match, min_ratio = 47):\n",
    "    # get a list of unique strings\n",
    "    strings = df[column].unique()\n",
    "    \n",
    "    # get the top 10 closest matches to our input string\n",
    "    matches = fuzzywuzzy.process.extract(string_to_match, strings, \n",
    "                                         limit=10, scorer=fuzzywuzzy.fuzz.token_sort_ratio)\n",
    "\n",
    "    # only get matches with a ratio > 90\n",
    "    close_matches = [matches[0] for matches in matches if matches[1] >= min_ratio]\n",
    "\n",
    "    # get the rows of all the close matches in our dataframe\n",
    "    rows_with_matches = df[column].isin(close_matches)\n",
    "\n",
    "    # replace all rows with close matches with the input matches \n",
    "    df.loc[rows_with_matches, column] = string_to_match\n",
    "    \n",
    "    # let us know the function's done\n",
    "    print(\"All done!\")\n",
    "    \n",
    "replace_matches_in_column(df=professors, column='Country', string_to_match=\"south korea\")\n",
    "countries = professors['Country'].unique()"
   ]
  },
  {
   "cell_type": "markdown",
   "id": "a12af8b5",
   "metadata": {
    "papermill": {
     "duration": 0.005348,
     "end_time": "2023-03-27T19:28:35.359004",
     "exception": false,
     "start_time": "2023-03-27T19:28:35.353656",
     "status": "completed"
    },
    "tags": []
   },
   "source": [
    "# 1) Examine another column\n",
    "\n",
    "Write code below to take a look at all the unique values in the \"Graduated from\" column."
   ]
  },
  {
   "cell_type": "code",
   "execution_count": 4,
   "id": "a9fc20a8",
   "metadata": {
    "execution": {
     "iopub.execute_input": "2023-03-27T19:28:35.372293Z",
     "iopub.status.busy": "2023-03-27T19:28:35.371757Z",
     "iopub.status.idle": "2023-03-27T19:28:35.378810Z",
     "shell.execute_reply": "2023-03-27T19:28:35.377289Z"
    },
    "papermill": {
     "duration": 0.017105,
     "end_time": "2023-03-27T19:28:35.381726",
     "exception": false,
     "start_time": "2023-03-27T19:28:35.364621",
     "status": "completed"
    },
    "tags": []
   },
   "outputs": [],
   "source": [
    "# TODO: Your code here\n",
    "countries = professors['Graduated from'].unique()"
   ]
  },
  {
   "cell_type": "markdown",
   "id": "4d795a91",
   "metadata": {
    "papermill": {
     "duration": 0.005142,
     "end_time": "2023-03-27T19:28:35.393033",
     "exception": false,
     "start_time": "2023-03-27T19:28:35.387891",
     "status": "completed"
    },
    "tags": []
   },
   "source": [
    "Do you notice any inconsistencies in the data?  Can any of the inconsistencies in the data be fixed by removing white spaces at the beginning and end of cells?\n",
    "\n",
    "Once you have answered these questions, run the code cell below to get credit for your work."
   ]
  },
  {
   "cell_type": "code",
   "execution_count": 5,
   "id": "9eff00c2",
   "metadata": {
    "execution": {
     "iopub.execute_input": "2023-03-27T19:28:35.406459Z",
     "iopub.status.busy": "2023-03-27T19:28:35.405958Z",
     "iopub.status.idle": "2023-03-27T19:28:35.417583Z",
     "shell.execute_reply": "2023-03-27T19:28:35.416234Z"
    },
    "papermill": {
     "duration": 0.02205,
     "end_time": "2023-03-27T19:28:35.420503",
     "exception": false,
     "start_time": "2023-03-27T19:28:35.398453",
     "status": "completed"
    },
    "tags": []
   },
   "outputs": [
    {
     "data": {
      "application/javascript": [
       "parent.postMessage({\"jupyterEvent\": \"custom.exercise_interaction\", \"data\": {\"outcomeType\": 1, \"valueTowardsCompletion\": 0.3333333333333333, \"interactionType\": 1, \"questionType\": 4, \"questionId\": \"1_ExamineProvince\", \"learnToolsVersion\": \"0.3.4\", \"failureMessage\": \"\", \"exceptionClass\": \"\", \"trace\": \"\"}}, \"*\")"
      ],
      "text/plain": [
       "<IPython.core.display.Javascript object>"
      ]
     },
     "metadata": {},
     "output_type": "display_data"
    },
    {
     "data": {
      "text/markdown": [
       "<span style=\"color:#33cc33\">Correct:</span> \n",
       "\n",
       "There are inconsistencies that can be fixed by removing white spaces at the beginning and end of cells.  For instance, \"University of Central Florida\" and \" University of Central Florida\" both appear in the column."
      ],
      "text/plain": [
       "Correct: \n",
       "\n",
       "There are inconsistencies that can be fixed by removing white spaces at the beginning and end of cells.  For instance, \"University of Central Florida\" and \" University of Central Florida\" both appear in the column."
      ]
     },
     "metadata": {},
     "output_type": "display_data"
    }
   ],
   "source": [
    "# Check your answer (Run this code cell to receive credit!)\n",
    "q1.check()"
   ]
  },
  {
   "cell_type": "code",
   "execution_count": 6,
   "id": "120c7448",
   "metadata": {
    "execution": {
     "iopub.execute_input": "2023-03-27T19:28:35.434718Z",
     "iopub.status.busy": "2023-03-27T19:28:35.434266Z",
     "iopub.status.idle": "2023-03-27T19:28:35.439375Z",
     "shell.execute_reply": "2023-03-27T19:28:35.438037Z"
    },
    "papermill": {
     "duration": 0.015132,
     "end_time": "2023-03-27T19:28:35.441666",
     "exception": false,
     "start_time": "2023-03-27T19:28:35.426534",
     "status": "completed"
    },
    "tags": []
   },
   "outputs": [],
   "source": [
    "# Line below will give you a hint\n",
    "#q1.hint()"
   ]
  },
  {
   "cell_type": "markdown",
   "id": "5a349294",
   "metadata": {
    "papermill": {
     "duration": 0.005408,
     "end_time": "2023-03-27T19:28:35.452951",
     "exception": false,
     "start_time": "2023-03-27T19:28:35.447543",
     "status": "completed"
    },
    "tags": []
   },
   "source": [
    "# 2) Do some text pre-processing\n",
    "\n",
    "Convert every entry in the \"Graduated from\" column in the `professors` DataFrame to remove white spaces at the beginning and end of cells."
   ]
  },
  {
   "cell_type": "code",
   "execution_count": 7,
   "id": "2220543b",
   "metadata": {
    "execution": {
     "iopub.execute_input": "2023-03-27T19:28:35.468179Z",
     "iopub.status.busy": "2023-03-27T19:28:35.466886Z",
     "iopub.status.idle": "2023-03-27T19:28:35.482537Z",
     "shell.execute_reply": "2023-03-27T19:28:35.481013Z"
    },
    "papermill": {
     "duration": 0.026387,
     "end_time": "2023-03-27T19:28:35.485039",
     "exception": false,
     "start_time": "2023-03-27T19:28:35.458652",
     "status": "completed"
    },
    "tags": []
   },
   "outputs": [
    {
     "data": {
      "application/javascript": [
       "parent.postMessage({\"jupyterEvent\": \"custom.exercise_interaction\", \"data\": {\"outcomeType\": 1, \"valueTowardsCompletion\": 0.3333333333333333, \"interactionType\": 1, \"questionType\": 1, \"questionId\": \"2_TextProcessing\", \"learnToolsVersion\": \"0.3.4\", \"failureMessage\": \"\", \"exceptionClass\": \"\", \"trace\": \"\"}}, \"*\")"
      ],
      "text/plain": [
       "<IPython.core.display.Javascript object>"
      ]
     },
     "metadata": {},
     "output_type": "display_data"
    },
    {
     "data": {
      "text/markdown": [
       "<span style=\"color:#33cc33\">Correct</span>"
      ],
      "text/plain": [
       "Correct"
      ]
     },
     "metadata": {},
     "output_type": "display_data"
    }
   ],
   "source": [
    "# TODO: Your code here\n",
    "professors['Graduated from'] = professors['Graduated from'].str.strip()\n",
    "\n",
    "# Check your answer\n",
    "q2.check()"
   ]
  },
  {
   "cell_type": "code",
   "execution_count": 8,
   "id": "5c92bbfd",
   "metadata": {
    "execution": {
     "iopub.execute_input": "2023-03-27T19:28:35.499113Z",
     "iopub.status.busy": "2023-03-27T19:28:35.498248Z",
     "iopub.status.idle": "2023-03-27T19:28:35.504065Z",
     "shell.execute_reply": "2023-03-27T19:28:35.503124Z"
    },
    "papermill": {
     "duration": 0.015414,
     "end_time": "2023-03-27T19:28:35.506370",
     "exception": false,
     "start_time": "2023-03-27T19:28:35.490956",
     "status": "completed"
    },
    "tags": []
   },
   "outputs": [],
   "source": [
    "# Lines below will give you a hint or solution code\n",
    "#q2.hint()\n",
    "#q2.solution()"
   ]
  },
  {
   "cell_type": "markdown",
   "id": "efcd6f57",
   "metadata": {
    "papermill": {
     "duration": 0.006224,
     "end_time": "2023-03-27T19:28:35.519935",
     "exception": false,
     "start_time": "2023-03-27T19:28:35.513711",
     "status": "completed"
    },
    "tags": []
   },
   "source": [
    "# 3) Continue working with countries\n",
    "\n",
    "In the tutorial, we focused on cleaning up inconsistencies in the \"Country\" column.  Run the code cell below to view the list of unique values that we ended with."
   ]
  },
  {
   "cell_type": "code",
   "execution_count": 9,
   "id": "ce50d85a",
   "metadata": {
    "execution": {
     "iopub.execute_input": "2023-03-27T19:28:35.535696Z",
     "iopub.status.busy": "2023-03-27T19:28:35.535056Z",
     "iopub.status.idle": "2023-03-27T19:28:35.544354Z",
     "shell.execute_reply": "2023-03-27T19:28:35.543065Z"
    },
    "papermill": {
     "duration": 0.019771,
     "end_time": "2023-03-27T19:28:35.546746",
     "exception": false,
     "start_time": "2023-03-27T19:28:35.526975",
     "status": "completed"
    },
    "tags": []
   },
   "outputs": [
    {
     "data": {
      "text/plain": [
       "array(['australia', 'austria', 'canada', 'china', 'finland', 'france',\n",
       "       'germany', 'greece', 'hongkong', 'ireland', 'italy', 'japan',\n",
       "       'macau', 'malaysia', 'mauritius', 'netherland', 'new zealand',\n",
       "       'norway', 'pakistan', 'portugal', 'russian federation',\n",
       "       'saudi arabia', 'scotland', 'singapore', 'south korea', 'spain',\n",
       "       'sweden', 'thailand', 'turkey', 'uk', 'urbana', 'usa', 'usofa'],\n",
       "      dtype=object)"
      ]
     },
     "execution_count": 9,
     "metadata": {},
     "output_type": "execute_result"
    }
   ],
   "source": [
    "# get all the unique values in the 'City' column\n",
    "countries = professors['Country'].unique()\n",
    "\n",
    "# sort them alphabetically and then take a closer look\n",
    "countries.sort()\n",
    "countries"
   ]
  },
  {
   "cell_type": "markdown",
   "id": "d663fbce",
   "metadata": {
    "papermill": {
     "duration": 0.005733,
     "end_time": "2023-03-27T19:28:35.558591",
     "exception": false,
     "start_time": "2023-03-27T19:28:35.552858",
     "status": "completed"
    },
    "tags": []
   },
   "source": [
    "Take another look at the \"Country\" column and see if there's any more data cleaning we need to do.\n",
    "\n",
    "It looks like 'usa' and 'usofa' should be the same country.  Correct the \"Country\" column in the dataframe to replace 'usofa' with 'usa'.\n",
    "\n",
    "**Use the most recent version of the DataFrame (with the whitespaces at the beginning and end of cells removed) from question 2.**"
   ]
  },
  {
   "cell_type": "code",
   "execution_count": 10,
   "id": "7bd1ff33",
   "metadata": {
    "execution": {
     "iopub.execute_input": "2023-03-27T19:28:35.573139Z",
     "iopub.status.busy": "2023-03-27T19:28:35.572242Z",
     "iopub.status.idle": "2023-03-27T19:28:35.589318Z",
     "shell.execute_reply": "2023-03-27T19:28:35.587622Z"
    },
    "papermill": {
     "duration": 0.027758,
     "end_time": "2023-03-27T19:28:35.592337",
     "exception": false,
     "start_time": "2023-03-27T19:28:35.564579",
     "status": "completed"
    },
    "tags": []
   },
   "outputs": [
    {
     "name": "stdout",
     "output_type": "stream",
     "text": [
      "[('usa', 100), ('usofa', 75), ('austria', 60), ('australia', 50), ('spain', 50), ('urbana', 44), ('uk', 40), ('malaysia', 36), ('pakistan', 36), ('portugal', 36)]\n",
      "All done!\n"
     ]
    },
    {
     "data": {
      "application/javascript": [
       "parent.postMessage({\"jupyterEvent\": \"custom.exercise_interaction\", \"data\": {\"outcomeType\": 1, \"valueTowardsCompletion\": 0.3333333333333333, \"interactionType\": 1, \"questionType\": 1, \"questionId\": \"3_WorkingWithCities\", \"learnToolsVersion\": \"0.3.4\", \"failureMessage\": \"\", \"exceptionClass\": \"\", \"trace\": \"\"}}, \"*\")"
      ],
      "text/plain": [
       "<IPython.core.display.Javascript object>"
      ]
     },
     "metadata": {},
     "output_type": "display_data"
    },
    {
     "data": {
      "text/markdown": [
       "<span style=\"color:#33cc33\">Correct</span>"
      ],
      "text/plain": [
       "Correct"
      ]
     },
     "metadata": {},
     "output_type": "display_data"
    }
   ],
   "source": [
    "# TODO: Your code here!\n",
    "matches = fuzzywuzzy.process.extract('usa', countries, limit=10, scorer=fuzzywuzzy.fuzz.token_sort_ratio)\n",
    "print(matches)\n",
    "replace_matches_in_column(df=professors, column='Country', string_to_match=\"usa\", min_ratio=64)\n",
    "\n",
    "# Check your answer\n",
    "q3.check()"
   ]
  },
  {
   "cell_type": "code",
   "execution_count": 11,
   "id": "1665b26f",
   "metadata": {
    "execution": {
     "iopub.execute_input": "2023-03-27T19:28:35.608733Z",
     "iopub.status.busy": "2023-03-27T19:28:35.607313Z",
     "iopub.status.idle": "2023-03-27T19:28:35.613349Z",
     "shell.execute_reply": "2023-03-27T19:28:35.611952Z"
    },
    "papermill": {
     "duration": 0.01703,
     "end_time": "2023-03-27T19:28:35.616182",
     "exception": false,
     "start_time": "2023-03-27T19:28:35.599152",
     "status": "completed"
    },
    "tags": []
   },
   "outputs": [],
   "source": [
    "# Lines below will give you a hint or solution code\n",
    "#q3.hint()\n",
    "#q3.solution()"
   ]
  },
  {
   "cell_type": "markdown",
   "id": "ef671852",
   "metadata": {
    "papermill": {
     "duration": 0.006202,
     "end_time": "2023-03-27T19:28:35.628894",
     "exception": false,
     "start_time": "2023-03-27T19:28:35.622692",
     "status": "completed"
    },
    "tags": []
   },
   "source": [
    "# Congratulations!\n",
    "\n",
    "Congratulations for completing the **Data Cleaning** course on Kaggle Learn!\n",
    "\n",
    "To practice your new skills, you're encouraged to download and investigate some of [Kaggle's Datasets](https://www.kaggle.com/datasets)."
   ]
  },
  {
   "cell_type": "markdown",
   "id": "40715c48",
   "metadata": {
    "papermill": {
     "duration": 0.00609,
     "end_time": "2023-03-27T19:28:35.641553",
     "exception": false,
     "start_time": "2023-03-27T19:28:35.635463",
     "status": "completed"
    },
    "tags": []
   },
   "source": [
    "---\n",
    "\n",
    "\n",
    "\n",
    "\n",
    "*Have questions or comments? Visit the [course discussion forum](https://www.kaggle.com/learn/data-cleaning/discussion) to chat with other learners.*"
   ]
  }
 ],
 "metadata": {
  "kernelspec": {
   "display_name": "Python 3",
   "language": "python",
   "name": "python3"
  },
  "language_info": {
   "codemirror_mode": {
    "name": "ipython",
    "version": 3
   },
   "file_extension": ".py",
   "mimetype": "text/x-python",
   "name": "python",
   "nbconvert_exporter": "python",
   "pygments_lexer": "ipython3",
   "version": "3.7.12"
  },
  "papermill": {
   "default_parameters": {},
   "duration": 13.003781,
   "end_time": "2023-03-27T19:28:36.473999",
   "environment_variables": {},
   "exception": null,
   "input_path": "__notebook__.ipynb",
   "output_path": "__notebook__.ipynb",
   "parameters": {},
   "start_time": "2023-03-27T19:28:23.470218",
   "version": "2.4.0"
  }
 },
 "nbformat": 4,
 "nbformat_minor": 5
}
